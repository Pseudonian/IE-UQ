{
 "cells": [
  {
   "cell_type": "markdown",
   "metadata": {},
   "source": [
    "Runs from uq_score, experiment_sampling, synthetic_data (training), few_shot inference, and step3_score. "
   ]
  },
  {
   "cell_type": "markdown",
   "metadata": {},
   "source": [
    "## Global Cells"
   ]
  },
  {
   "cell_type": "code",
   "execution_count": null,
   "metadata": {
    "colab": {
     "base_uri": "https://localhost:8080/"
    },
    "executionInfo": {
     "elapsed": 1681,
     "status": "ok",
     "timestamp": 1731459084240,
     "user": {
      "displayName": "Audrey Mao",
      "userId": "07904551373112414170"
     },
     "user_tz": 300
    },
    "id": "bB1xhelYoog5",
    "outputId": "29233413-4193-4b82-828c-e31e528af7d7"
   },
   "outputs": [
    {
     "name": "stdout",
     "output_type": "stream",
     "text": [
      "Drive already mounted at /content/drive; to attempt to forcibly remount, call drive.mount(\"/content/drive\", force_remount=True).\n"
     ]
    }
   ],
   "source": [
    "from google.colab import drive\n",
    "drive.mount('/content/drive')"
   ]
  },
  {
   "cell_type": "code",
   "execution_count": null,
   "metadata": {},
   "outputs": [],
   "source": [
    "!pip install --no-cache-dir --force-reinstall git+https://github.com/tlebryk/IE-UQ.git@develop"
   ]
  },
  {
   "cell_type": "code",
   "execution_count": null,
   "metadata": {},
   "outputs": [],
   "source": [
    "!pip install --no-deps --no-cache-dir --force-reinstall \"nerre[dev] @ git+https://github.com/tlebryk/NERRE.git@dev\""
   ]
  },
  {
   "cell_type": "code",
   "execution_count": null,
   "metadata": {},
   "outputs": [],
   "source": [
    "from ie_uq import experiment_sampling, synthetic_data, few_shot_inference_extraction, uq_score\n",
    "import os \n",
    "from doping import step3_score"
   ]
  },
  {
   "cell_type": "code",
   "execution_count": null,
   "metadata": {},
   "outputs": [],
   "source": [
    "import os \n",
    "model_id = \"meta-llama/Llama-3.2-3B-Instruct\"\n",
    "dataset_path = '/content/drive/MyDrive/nlp/Final_project/IE-UQ/runs/random-100-dataset/train_dataset.jsonl'\n",
    "inference_dataset_path: str = '/content/drive/MyDrive/nlp/Final_project/IE-UQ/runs/random-100-dataset/train_dataset.jsonl'\n",
    "mode=\"synth_json\"\n",
    "output_dir = \"/content/drive/MyDrive/nlp/Final_project/IE-UQ/runs\"\n",
    "bnb_dict = {}\n",
    "peft_dict = None\n",
    "sft_dict = None\n",
    "model_dict = None\n",
    "generation_dict = None\n",
    "quick_mode=False\n",
    "budget = 100\n",
    "\n",
    "synth_json_dir =  os.path.join(output_dir, \"synth_json_gen\")\n",
    "synth_span_dir =  os.path.join(output_dir, \"synth_span_gen\")\n",
    "extraction_dir =  os.path.join(output_dir, \"synth_extraction_gen\")\n",
    "\n",
    "\n",
    "random_baseline_dir = os.path.join(output_dir, \"random_baseline_uq_results\")\n",
    "active_learning_dir = os.path.join(output_dir, \"active_learning_uq_results\")\n",
    "synth_span_dir_final = os.path.join(output_dir, \"synth_span_uq_results\")\n",
    "small = ''\n",
    "# small = '_small'\n",
    "\n",
    "test_dataset_path = f\"https://raw.githubusercontent.com/tlebryk/NERRE/refs/heads/dev/doping/data/test{small}.json\"\n",
    "test_dataset_path = f'/content/drive/MyDrive/nlp/Final_project/NERRE/doping/data/test{small}.json'"
   ]
  },
  {
   "cell_type": "markdown",
   "metadata": {},
   "source": [
    "## random baseline "
   ]
  },
  {
   "cell_type": "code",
   "execution_count": null,
   "metadata": {},
   "outputs": [],
   "source": [
    "experiment_sampling.main(\n",
    "    dataset_path=dataset_path,\n",
    "    sampling_mode=\"random\",\n",
    "    output_dir=random_baseline_dir,\n",
    "    budget=budget,\n",
    ")"
   ]
  },
  {
   "cell_type": "code",
   "execution_count": null,
   "metadata": {},
   "outputs": [],
   "source": [
    "synthetic_data.main(\n",
    "    model_id=model_id,\n",
    "    dataset_path=os.path.join(random_baseline_dir, \"train_dataset.jsonl\"),\n",
    "    mode=\"extraction\",\n",
    "    output_dir=random_baseline_dir,\n",
    "    bnb_dict=bnb_dict, \n",
    "    peft_dict=peft_dict,\n",
    "    sft_dict=sft_dict,\n",
    "    model_dict=model_dict,\n",
    "    generation_dict=generation_dict\n",
    ")"
   ]
  },
  {
   "cell_type": "code",
   "execution_count": null,
   "metadata": {},
   "outputs": [],
   "source": [
    "few_shot_inference_extraction.main(\n",
    "    model_id=random_baseline_dir,\n",
    "    dataset_path=os.path.join(random_baseline_dir, \"train_dataset.jsonl\"),\n",
    "    inference_dataset_path=test_dataset_path,\n",
    "    mode=\"extraction\",\n",
    "    output_dir=random_baseline_dir,\n",
    "    bnb_dict=bnb_dict,\n",
    "    model_dict=model_dict,\n",
    "    generation_dict=generation_dict,\n",
    "    quick_mode=quick_mode\n",
    ")"
   ]
  },
  {
   "cell_type": "code",
   "execution_count": null,
   "metadata": {},
   "outputs": [],
   "source": [
    "step3_score.main(\n",
    "    test_file=test_dataset_path,\n",
    "    pred_file=os.path.join(random_baseline_dir, \"fewshot2output.json\"),\n",
    "    plot=True,\n",
    "    loud=True,\n",
    "    schema_type=True,\n",
    "    enforce_lowercase=True,\n",
    "    output_dir=random_baseline_dir)"
   ]
  },
  {
   "cell_type": "markdown",
   "metadata": {},
   "source": [
    "## Active learning"
   ]
  },
  {
   "cell_type": "code",
   "execution_count": null,
   "metadata": {},
   "outputs": [],
   "source": [
    "# add perplexity score generation here \n",
    "uq_score.main(\n",
    "    model_id = model_id,\n",
    "    dataset_path = dataset_path,\n",
    "    mode = \"extraction\",\n",
    "    output_dir = active_learning_dir,\n",
    "    uq_metric = \"calculate_perplexity_raw\",\n",
    "    # full_output = True,\n",
    ")"
   ]
  },
  {
   "cell_type": "code",
   "execution_count": null,
   "metadata": {},
   "outputs": [],
   "source": [
    "experiment_sampling.main(\n",
    "    dataset_path=dataset_path,\n",
    "    sampling_mode=\"active_learning\",\n",
    "    output_dir=active_learning_dir,\n",
    "    budget=budget,\n",
    ")"
   ]
  },
  {
   "cell_type": "code",
   "execution_count": null,
   "metadata": {},
   "outputs": [],
   "source": [
    "synthetic_data.main(\n",
    "    model_id=model_id,\n",
    "    dataset_path=os.path.join(active_learning_dir, \"train_dataset.jsonl\"),\n",
    "    mode=\"extraction\",\n",
    "    output_dir=active_learning_dir,\n",
    "    bnb_dict=bnb_dict, \n",
    "    peft_dict=peft_dict,\n",
    "    sft_dict=sft_dict,\n",
    "    model_dict=model_dict,\n",
    "    generation_dict=generation_dict\n",
    ")"
   ]
  },
  {
   "cell_type": "code",
   "execution_count": null,
   "metadata": {},
   "outputs": [],
   "source": [
    "few_shot_inference_extraction.main(\n",
    "    model_id=active_learning_dir,\n",
    "    dataset_path=os.path.join(active_learning_dir, \"train_dataset.jsonl\"),\n",
    "    inference_dataset_path=test_dataset_path,\n",
    "    mode=\"extraction\",\n",
    "    output_dir=active_learning_dir,\n",
    "    bnb_dict=bnb_dict,\n",
    "    model_dict=model_dict,\n",
    "    generation_dict=generation_dict,\n",
    "    quick_mode=quick_mode\n",
    ")"
   ]
  },
  {
   "cell_type": "code",
   "execution_count": null,
   "metadata": {},
   "outputs": [],
   "source": [
    "step3_score.main(\n",
    "    test_file=test_dataset_path,\n",
    "    pred_file=os.path.join(active_learning_dir, \"fewshot2output.json\"),\n",
    "    plot=True,\n",
    "    loud=True,\n",
    "    schema_type=True,\n",
    "    enforce_lowercase=True,\n",
    "    output_dir=active_learning_dir)"
   ]
  },
  {
   "cell_type": "markdown",
   "metadata": {},
   "source": [
    "## Synthetic Data "
   ]
  },
  {
   "cell_type": "code",
   "execution_count": null,
   "metadata": {},
   "outputs": [],
   "source": [
    "uq_score.main(\n",
    "    model_id = model_id,\n",
    "    dataset_path = os.path.join(synth_span_dir, \"few_shot_output.jsonl\"),\n",
    "    mode = \"synth_span\",\n",
    "    output_dir = synth_span_dir_final,\n",
    "    uq_metric = \"calculate_perplexity_raw\",\n",
    "    # full_output = True,\n",
    ")"
   ]
  },
  {
   "cell_type": "code",
   "execution_count": null,
   "metadata": {},
   "outputs": [],
   "source": [
    "experiment_sampling.main(\n",
    "    dataset_path = dataset_path,\n",
    "    sampling_mode = \"synth_span\",\n",
    "    output_dir = synth_span_dir_final,\n",
    "    budget = 100,\n",
    "    # full_output = True,\n",
    ")"
   ]
  },
  {
   "cell_type": "code",
   "execution_count": null,
   "metadata": {},
   "outputs": [],
   "source": [
    "synthetic_data.main(\n",
    "    model_id = model_id,\n",
    "    dataset_path = os.path.join(synth_span_dir, \"train_dataset.jsonl\"),\n",
    "    mode = \"extraction\",\n",
    "    output_dir = synth_span_dir_final,\n",
    "    bnb_dict = bnb_dict,\n",
    "    peft_dict = peft_dict,\n",
    "    sft_dict = sft_dict,\n",
    "    model_dict = model_dict,\n",
    "    generation_dict = generation_dict,\n",
    ")"
   ]
  },
  {
   "cell_type": "code",
   "execution_count": null,
   "metadata": {},
   "outputs": [],
   "source": [
    "few_shot_inference_extraction.main(\n",
    "    model_id=synth_span_dir_final,\n",
    "    dataset_path=dataset_path,\n",
    "    inference_dataset_path=test_dataset_path,\n",
    "    mode=\"extraction\",\n",
    "    output_dir=synth_span_dir_final,\n",
    "    bnb_dict=bnb_dict,\n",
    "    model_dict=model_dict,\n",
    "    generation_dict=generation_dict,\n",
    "    quick_mode=quick_mode\n",
    ")"
   ]
  },
  {
   "cell_type": "code",
   "execution_count": null,
   "metadata": {},
   "outputs": [],
   "source": [
    "step3_score.main(\n",
    "    test_file=test_dataset_path,\n",
    "    pred_file=os.path.join(synth_span_dir_final, \"fewshot2output.json\"),\n",
    "    plot=True,\n",
    "    loud=True,\n",
    "    schema_type=True,\n",
    "    enforce_lowercase=True,\n",
    "    output_dir=synth_span_dir_final)"
   ]
  }
 ],
 "metadata": {
  "accelerator": "GPU",
  "colab": {
   "gpuType": "A100",
   "machine_shape": "hm",
   "provenance": []
  },
  "kernelspec": {
   "display_name": "Python 3",
   "name": "python3"
  },
  "language_info": {
   "name": "python"
  }
 },
 "nbformat": 4,
 "nbformat_minor": 0
}
